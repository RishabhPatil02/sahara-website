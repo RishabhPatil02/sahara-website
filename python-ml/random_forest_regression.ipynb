{
 "cells": [
  {
   "cell_type": "markdown",
   "metadata": {
    "id": "LeamvpPVXuS_"
   },
   "source": [
    "# Random Forest Regression"
   ]
  },
  {
   "cell_type": "markdown",
   "metadata": {
    "id": "O2wvZ7SKXzVC"
   },
   "source": [
    "## Importing the libraries"
   ]
  },
  {
   "cell_type": "code",
   "execution_count": 1,
   "metadata": {
    "executionInfo": {
     "elapsed": 362,
     "status": "ok",
     "timestamp": 1632474401108,
     "user": {
      "displayName": "test mail",
      "photoUrl": "https://lh3.googleusercontent.com/a/default-user=s64",
      "userId": "14146835515533625183"
     },
     "user_tz": -330
    },
    "id": "PVmESEFZX4Ig"
   },
   "outputs": [],
   "source": [
    "import numpy as np\n",
    "import matplotlib.pyplot as plt\n",
    "import pandas as pd"
   ]
  },
  {
   "cell_type": "code",
   "execution_count": null,
   "metadata": {
    "colab": {
     "base_uri": "https://localhost:8080/"
    },
    "executionInfo": {
     "elapsed": 22083,
     "status": "ok",
     "timestamp": 1632475370199,
     "user": {
      "displayName": "test mail",
      "photoUrl": "https://lh3.googleusercontent.com/a/default-user=s64",
      "userId": "14146835515533625183"
     },
     "user_tz": -330
    },
    "id": "OjS9xuuiHO_g",
    "outputId": "c77f783e-81dd-4028-b64f-fd745b708551"
   },
   "outputs": [],
   "source": []
  },
  {
   "cell_type": "code",
   "execution_count": 2,
   "metadata": {
    "executionInfo": {
     "elapsed": 362,
     "status": "ok",
     "timestamp": 1632475464951,
     "user": {
      "displayName": "test mail",
      "photoUrl": "https://lh3.googleusercontent.com/a/default-user=s64",
      "userId": "14146835515533625183"
     },
     "user_tz": -330
    },
    "id": "6ONscT72HrrN"
   },
   "outputs": [],
   "source": [
    "import pickle"
   ]
  },
  {
   "cell_type": "markdown",
   "metadata": {
    "id": "zgbK_F8-X7em"
   },
   "source": [
    "## Importing the dataset"
   ]
  },
  {
   "cell_type": "code",
   "execution_count": 3,
   "metadata": {
    "executionInfo": {
     "elapsed": 50,
     "status": "ok",
     "timestamp": 1632474401765,
     "user": {
      "displayName": "test mail",
      "photoUrl": "https://lh3.googleusercontent.com/a/default-user=s64",
      "userId": "14146835515533625183"
     },
     "user_tz": -330
    },
    "id": "adBE4tjQX_Bh"
   },
   "outputs": [],
   "source": [
    "dataset = pd.read_csv('./test_data.csv')\n",
    "x = dataset.iloc[:, 1:-1].values\n",
    "y = dataset.iloc[:, -1].values"
   ]
  },
  {
   "cell_type": "code",
   "execution_count": 4,
   "metadata": {
    "colab": {
     "base_uri": "https://localhost:8080/"
    },
    "executionInfo": {
     "elapsed": 50,
     "status": "ok",
     "timestamp": 1632474401766,
     "user": {
      "displayName": "test mail",
      "photoUrl": "https://lh3.googleusercontent.com/a/default-user=s64",
      "userId": "14146835515533625183"
     },
     "user_tz": -330
    },
    "id": "Zueg7YeIxbUJ",
    "outputId": "de2e05d8-7388-4b2f-dd76-ad5a340207ba"
   },
   "outputs": [
    {
     "name": "stdout",
     "output_type": "stream",
     "text": [
      "[[1920  237   31    5   29]\n",
      " [1636  179   73   19    3]\n",
      " [1279  173   48    8   17]\n",
      " ...\n",
      " [1381  360   59   11   22]\n",
      " [2172   14   29    6   21]\n",
      " [ 497  237   22   18   18]]\n"
     ]
    }
   ],
   "source": [
    "print(x)"
   ]
  },
  {
   "cell_type": "code",
   "execution_count": 5,
   "metadata": {
    "colab": {
     "base_uri": "https://localhost:8080/"
    },
    "executionInfo": {
     "elapsed": 46,
     "status": "ok",
     "timestamp": 1632474401767,
     "user": {
      "displayName": "test mail",
      "photoUrl": "https://lh3.googleusercontent.com/a/default-user=s64",
      "userId": "14146835515533625183"
     },
     "user_tz": -330
    },
    "id": "swkjs7kJxcjk",
    "outputId": "88d38e92-bb01-4a5f-be38-904a1dd4ec40"
   },
   "outputs": [
    {
     "name": "stdout",
     "output_type": "stream",
     "text": [
      "[2 4 5 ... 1 5 3]\n"
     ]
    }
   ],
   "source": [
    "print(y)"
   ]
  },
  {
   "cell_type": "markdown",
   "metadata": {
    "id": "GFFG8L2v2qN1"
   },
   "source": [
    "## Splitting the Dataset into Training and Test Set"
   ]
  },
  {
   "cell_type": "code",
   "execution_count": 6,
   "metadata": {
    "executionInfo": {
     "elapsed": 43,
     "status": "ok",
     "timestamp": 1632474401769,
     "user": {
      "displayName": "test mail",
      "photoUrl": "https://lh3.googleusercontent.com/a/default-user=s64",
      "userId": "14146835515533625183"
     },
     "user_tz": -330
    },
    "id": "MU_cwt7z2xV0"
   },
   "outputs": [],
   "source": [
    "\n",
    "from sklearn.model_selection import train_test_split\n",
    "x_train, x_test, y_train, y_test = train_test_split(x, y, test_size = 0.20, random_state = 0)"
   ]
  },
  {
   "cell_type": "code",
   "execution_count": 7,
   "metadata": {
    "colab": {
     "base_uri": "https://localhost:8080/"
    },
    "executionInfo": {
     "elapsed": 42,
     "status": "ok",
     "timestamp": 1632474401769,
     "user": {
      "displayName": "test mail",
      "photoUrl": "https://lh3.googleusercontent.com/a/default-user=s64",
      "userId": "14146835515533625183"
     },
     "user_tz": -330
    },
    "id": "yl30Edfm20z0",
    "outputId": "a8911a75-2dae-484b-9fe4-1241e6ca1c39"
   },
   "outputs": [
    {
     "name": "stdout",
     "output_type": "stream",
     "text": [
      "[[ 317  465   28    4   27]\n",
      " [ 990  177   91    3   20]\n",
      " [2213  109   13   19   13]\n",
      " ...\n",
      " [ 607  134   85    6   11]\n",
      " [2537  349   58   14   10]\n",
      " [ 448  203   83    2   18]]\n"
     ]
    }
   ],
   "source": [
    "print(x_train)"
   ]
  },
  {
   "cell_type": "code",
   "execution_count": 8,
   "metadata": {
    "colab": {
     "base_uri": "https://localhost:8080/"
    },
    "executionInfo": {
     "elapsed": 37,
     "status": "ok",
     "timestamp": 1632474401770,
     "user": {
      "displayName": "test mail",
      "photoUrl": "https://lh3.googleusercontent.com/a/default-user=s64",
      "userId": "14146835515533625183"
     },
     "user_tz": -330
    },
    "id": "O_6Oku_423pY",
    "outputId": "8832fdd8-d664-4850-ea38-fe5169ff2cae"
   },
   "outputs": [
    {
     "name": "stdout",
     "output_type": "stream",
     "text": [
      "[4 2 2 ... 2 4 1]\n"
     ]
    }
   ],
   "source": [
    "print(y_train)"
   ]
  },
  {
   "cell_type": "code",
   "execution_count": 9,
   "metadata": {
    "colab": {
     "base_uri": "https://localhost:8080/"
    },
    "executionInfo": {
     "elapsed": 36,
     "status": "ok",
     "timestamp": 1632474401772,
     "user": {
      "displayName": "test mail",
      "photoUrl": "https://lh3.googleusercontent.com/a/default-user=s64",
      "userId": "14146835515533625183"
     },
     "user_tz": -330
    },
    "id": "Z0JqGEbt24_R",
    "outputId": "f30023d0-e070-4577-d5a8-48790da419bd"
   },
   "outputs": [
    {
     "name": "stdout",
     "output_type": "stream",
     "text": [
      "[[ 569  420   28    7   11]\n",
      " [2907  307   15    9   17]\n",
      " [2816  298   26    7   19]\n",
      " ...\n",
      " [1281   83   68    9   20]\n",
      " [ 774   65   54   18    2]\n",
      " [ 271  275   54    6    1]]\n"
     ]
    }
   ],
   "source": [
    "print(x_test)"
   ]
  },
  {
   "cell_type": "code",
   "execution_count": 10,
   "metadata": {
    "colab": {
     "base_uri": "https://localhost:8080/"
    },
    "executionInfo": {
     "elapsed": 36,
     "status": "ok",
     "timestamp": 1632474401776,
     "user": {
      "displayName": "test mail",
      "photoUrl": "https://lh3.googleusercontent.com/a/default-user=s64",
      "userId": "14146835515533625183"
     },
     "user_tz": -330
    },
    "id": "ZzdWDY9A26a2",
    "outputId": "4d07b207-c71d-4015-e193-0076016961d1"
   },
   "outputs": [
    {
     "name": "stdout",
     "output_type": "stream",
     "text": [
      "[5 5 3 ... 2 3 5]\n"
     ]
    }
   ],
   "source": [
    "print(y_test)"
   ]
  },
  {
   "cell_type": "markdown",
   "metadata": {
    "id": "ABfD-48X3I9D"
   },
   "source": [
    "## Feature Scaling"
   ]
  },
  {
   "cell_type": "code",
   "execution_count": 11,
   "metadata": {
    "executionInfo": {
     "elapsed": 32,
     "status": "ok",
     "timestamp": 1632474401778,
     "user": {
      "displayName": "test mail",
      "photoUrl": "https://lh3.googleusercontent.com/a/default-user=s64",
      "userId": "14146835515533625183"
     },
     "user_tz": -330
    },
    "id": "AxCwbfd43K9o"
   },
   "outputs": [],
   "source": [
    "from sklearn.preprocessing import StandardScaler\n",
    "sc = StandardScaler()\n",
    "x_train = sc.fit_transform(x_train)\n",
    "x_test = sc.transform(x_test)"
   ]
  },
  {
   "cell_type": "code",
   "execution_count": 12,
   "metadata": {
    "colab": {
     "base_uri": "https://localhost:8080/"
    },
    "executionInfo": {
     "elapsed": 33,
     "status": "ok",
     "timestamp": 1632474401780,
     "user": {
      "displayName": "test mail",
      "photoUrl": "https://lh3.googleusercontent.com/a/default-user=s64",
      "userId": "14146835515533625183"
     },
     "user_tz": -330
    },
    "id": "vVa90PMI3OCe",
    "outputId": "67bc77c4-8eeb-4220-f370-3867006c1ab6"
   },
   "outputs": [
    {
     "name": "stdout",
     "output_type": "stream",
     "text": [
      "[[-1.36001218  1.49268789 -0.77619947 -1.10903821  1.32613252]\n",
      " [-0.58283192 -0.50759181  1.40808044 -1.28192024  0.51585646]\n",
      " [ 0.82948821 -0.97988007 -1.29626611  1.48419221 -0.29441959]\n",
      " ...\n",
      " [-1.02512024 -0.80624468  1.20005378 -0.76327416 -0.52592704]\n",
      " [ 1.20364334  0.68701968  0.26393382  0.61978207 -0.64168076]\n",
      " [-1.2087334  -0.327011    1.13071156 -1.45480227  0.28434902]]\n"
     ]
    }
   ],
   "source": [
    "print(x_train)"
   ]
  },
  {
   "cell_type": "code",
   "execution_count": 13,
   "metadata": {
    "colab": {
     "base_uri": "https://localhost:8080/"
    },
    "executionInfo": {
     "elapsed": 30,
     "status": "ok",
     "timestamp": 1632474401782,
     "user": {
      "displayName": "test mail",
      "photoUrl": "https://lh3.googleusercontent.com/a/default-user=s64",
      "userId": "14146835515533625183"
     },
     "user_tz": -330
    },
    "id": "wbL3Q17L3PyD",
    "outputId": "1f8d7b1a-a2d3-4932-a82d-9d3ea1fa1333"
   },
   "outputs": [
    {
     "name": "stdout",
     "output_type": "stream",
     "text": [
      "[[-1.06900263  1.18014419 -0.77619947 -0.59039213 -0.52592704]\n",
      " [ 1.63091925  0.39531222 -1.22692389 -0.24462807  0.1685953 ]\n",
      " [ 1.52583247  0.33280348 -0.84554169 -0.59039213  0.40010274]\n",
      " ...\n",
      " [-0.24678519 -1.16046088  0.61064492 -0.24462807  0.51585646]\n",
      " [-0.83226868 -1.28547836  0.12524938  1.31131019 -1.56771053]\n",
      " [-1.41313297  0.17305892  0.12524938 -0.76327416 -1.68346426]]\n"
     ]
    }
   ],
   "source": [
    "print(x_test)"
   ]
  },
  {
   "cell_type": "markdown",
   "metadata": {
    "id": "v4S2fyIBYDcu"
   },
   "source": [
    "## Training the Random Forest Regression model on the whole dataset"
   ]
  },
  {
   "cell_type": "code",
   "execution_count": 14,
   "metadata": {
    "colab": {
     "base_uri": "https://localhost:8080/"
    },
    "executionInfo": {
     "elapsed": 19312,
     "status": "ok",
     "timestamp": 1632474421069,
     "user": {
      "displayName": "test mail",
      "photoUrl": "https://lh3.googleusercontent.com/a/default-user=s64",
      "userId": "14146835515533625183"
     },
     "user_tz": -330
    },
    "id": "FIKrshtI01_M",
    "outputId": "6c15ddb3-9e88-4397-b700-0dde0bcdd408"
   },
   "outputs": [
    {
     "data": {
      "text/plain": [
       "RandomForestRegressor(n_estimators=1000, random_state=0)"
      ]
     },
     "execution_count": 14,
     "metadata": {},
     "output_type": "execute_result"
    }
   ],
   "source": [
    "from sklearn.ensemble import RandomForestRegressor\n",
    "regressor = RandomForestRegressor(n_estimators = 1000, random_state = 0)\n",
    "regressor.fit(x_train, y_train)"
   ]
  },
  {
   "cell_type": "code",
   "execution_count": 15,
   "metadata": {
    "executionInfo": {
     "elapsed": 978,
     "status": "ok",
     "timestamp": 1632476011543,
     "user": {
      "displayName": "test mail",
      "photoUrl": "https://lh3.googleusercontent.com/a/default-user=s64",
      "userId": "14146835515533625183"
     },
     "user_tz": -330
    },
    "id": "rRNvSqB_JCTd"
   },
   "outputs": [],
   "source": [
    "import pickle\n",
    "with open('score','wb') as f:\n",
    "    pickle.dump(regressor,f)"
   ]
  },
  {
   "cell_type": "code",
   "execution_count": 17,
   "metadata": {
    "colab": {
     "base_uri": "https://localhost:8080/"
    },
    "executionInfo": {
     "elapsed": 985,
     "status": "ok",
     "timestamp": 1632476973985,
     "user": {
      "displayName": "test mail",
      "photoUrl": "https://lh3.googleusercontent.com/a/default-user=s64",
      "userId": "14146835515533625183"
     },
     "user_tz": -330
    },
    "id": "mhKAkjV9NLCw",
    "outputId": "2a6538be-5cfb-45fa-c434-21373fe25e99"
   },
   "outputs": [
    {
     "name": "stdout",
     "output_type": "stream",
     "text": [
      "[3.564 1.6   2.755]\n"
     ]
    }
   ],
   "source": [
    "arr = [[857,473,29,1,4],[2600,187,33,20,17],[1829,206,79,5,8]]\n",
    "with open('score','rb') as f:\n",
    "    regressor=pickle.load(f)\n",
    "    res = regressor.predict(sc.transform(arr))\n",
    "    print(res)"
   ]
  },
  {
   "cell_type": "code",
   "execution_count": 20,
   "metadata": {
    "executionInfo": {
     "elapsed": 887,
     "status": "ok",
     "timestamp": 1632474421945,
     "user": {
      "displayName": "test mail",
      "photoUrl": "https://lh3.googleusercontent.com/a/default-user=s64",
      "userId": "14146835515533625183"
     },
     "user_tz": -330
    },
    "id": "e5xI0qEoyw2P"
   },
   "outputs": [],
   "source": [
    "y_pred = regressor.predict(x_test)"
   ]
  },
  {
   "cell_type": "code",
   "execution_count": 21,
   "metadata": {
    "colab": {
     "base_uri": "https://localhost:8080/"
    },
    "executionInfo": {
     "elapsed": 36,
     "status": "ok",
     "timestamp": 1632474421947,
     "user": {
      "displayName": "test mail",
      "photoUrl": "https://lh3.googleusercontent.com/a/default-user=s64",
      "userId": "14146835515533625183"
     },
     "user_tz": -330
    },
    "id": "UP6iM_8X4Pjg",
    "outputId": "8051e5f3-3918-46b1-b238-871dacad1d1c"
   },
   "outputs": [
    {
     "data": {
      "text/plain": [
       "0.16325039342944403"
      ]
     },
     "execution_count": 21,
     "metadata": {},
     "output_type": "execute_result"
    }
   ],
   "source": [
    "from sklearn.metrics import r2_score\n",
    "r2_score(y_test, y_pred)"
   ]
  },
  {
   "cell_type": "code",
   "execution_count": null,
   "metadata": {},
   "outputs": [],
   "source": []
  }
 ],
 "metadata": {
  "colab": {
   "name": "random_forest_regression.ipynb",
   "provenance": [
    {
     "file_id": "1bqXQKwI48-BkEa0PfM0P7WCIaZ_eRFCG",
     "timestamp": 1620743163024
    }
   ]
  },
  "kernelspec": {
   "display_name": "Python 3",
   "language": "python",
   "name": "python3"
  },
  "language_info": {
   "codemirror_mode": {
    "name": "ipython",
    "version": 3
   },
   "file_extension": ".py",
   "mimetype": "text/x-python",
   "name": "python",
   "nbconvert_exporter": "python",
   "pygments_lexer": "ipython3",
   "version": "3.9.1"
  }
 },
 "nbformat": 4,
 "nbformat_minor": 1
}
